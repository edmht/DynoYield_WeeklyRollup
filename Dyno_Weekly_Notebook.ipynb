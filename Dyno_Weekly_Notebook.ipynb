{
 "cells": [
  {
   "cell_type": "code",
   "execution_count": 70,
   "metadata": {},
   "outputs": [],
   "source": [
    "import pandas as pd\n",
    "import matplotlib.pyplot as plt"
   ]
  },
  {
   "cell_type": "code",
   "execution_count": 71,
   "metadata": {},
   "outputs": [],
   "source": [
    "NVH_metrics = ['6208 Cage Failure', 'CH/Input Bearing Race Defect', 'CH/Input Bearing Ball Defect',\n",
    "\t\t\t\t\t\t'CH Inter Bearing Race Defect',\n",
    "\t\t\t\t\t\t'CH Inter Bearing Ball Defect',\n",
    "\t\t\t\t\t\t'Input Gear Clicking',\n",
    "\t\t\t\t\t\t'Intermediate Gear Clicking',\n",
    "\t\t\t\t\t\t'Output Gear Clicking',\n",
    "\t\t\t\t\t\t'Intermediate Gear Clicking Negative',\n",
    "\t\t\t\t\t\t'Intermediate Gear Clicking Positive',\n",
    "\t\t\t\t\t\t'Input Gear Clicking Positive',\n",
    "\t\t\t\t\t\t'Input Gear Clicking Negative',\n",
    "\t\t\t\t\t\t'Output Gear Clicking Negative',\n",
    "\t\t\t\t\t\t'Output Gear Clicking Positive']"
   ]
  },
  {
   "cell_type": "markdown",
   "metadata": {},
   "source": [
    "# To find dyno performance\n",
    "## Count unique Serials\n",
    "This is the total number of units tested\n",
    "\n",
    "## Find unique failures\n",
    "How many unique serials with metricispass = 0\n",
    "\n",
    "## Out of these serial failures, how many of them passed within the threshold time?\n",
    "Compare the failing metric to the next occurance of the passing metric\n",
    "Is it within the threshold time? If so, it's a retest pass. If not, it's a rework pass\n",
    "If there's no next passing metric? True Failure, pending rework\n",
    "\n",
    "## How to do?\n",
    "How can unique runs be differentiated? Is there a way to assign an identifier for each test?\n",
    "How can we identify a full run?\n",
    "\\\n",
    "Group the runs per df['metricName'] and compare the times between the runs. \n",
    "If metricispass = 1 > metricispass = 0, < retestWindow_min = 15 min: It's a retest\n",
    "If metricispass = 1 > metricispass = 0, > retestWindow_min = 15 min: It's a rework\n",
    "If metricispass = 0 doesn't exist: Pending successful rework\n",
    "Would need to account for breaks and lunches for retestWindow_min. Refer to the excel sheet you made for the megapack harrness guys\n"
   ]
  },
  {
   "cell_type": "code",
   "execution_count": 72,
   "metadata": {},
   "outputs": [
    {
     "data": {
      "text/html": [
       "<div>\n",
       "<style scoped>\n",
       "    .dataframe tbody tr th:only-of-type {\n",
       "        vertical-align: middle;\n",
       "    }\n",
       "\n",
       "    .dataframe tbody tr th {\n",
       "        vertical-align: top;\n",
       "    }\n",
       "\n",
       "    .dataframe thead th {\n",
       "        text-align: right;\n",
       "    }\n",
       "</style>\n",
       "<table border=\"1\" class=\"dataframe\">\n",
       "  <thead>\n",
       "    <tr style=\"text-align: right;\">\n",
       "      <th></th>\n",
       "      <th>part</th>\n",
       "      <th>FX_Thing</th>\n",
       "      <th>partnumber</th>\n",
       "      <th>testTime</th>\n",
       "      <th>testMonth</th>\n",
       "      <th>testDay</th>\n",
       "      <th>testYear</th>\n",
       "      <th>testHour</th>\n",
       "      <th>testMinute</th>\n",
       "      <th>metricName</th>\n",
       "      <th>metricispass</th>\n",
       "      <th>metricValue</th>\n",
       "      <th>yearWeek</th>\n",
       "    </tr>\n",
       "  </thead>\n",
       "  <tbody>\n",
       "    <tr>\n",
       "      <th>0</th>\n",
       "      <td>P1025598-01-U-ST13L0030717R2</td>\n",
       "      <td>P1025598-01-U:ST13L0030717R2</td>\n",
       "      <td>1025598-01-U</td>\n",
       "      <td>2024-06-03 06:43:10.000</td>\n",
       "      <td>6</td>\n",
       "      <td>3</td>\n",
       "      <td>2024</td>\n",
       "      <td>6</td>\n",
       "      <td>43</td>\n",
       "      <td>6208 Cage Failure</td>\n",
       "      <td>1</td>\n",
       "      <td>49.188820</td>\n",
       "      <td>23</td>\n",
       "    </tr>\n",
       "    <tr>\n",
       "      <th>1</th>\n",
       "      <td>P1025598-01-U-ST13L0030717R2</td>\n",
       "      <td>P1025598-01-U:ST13L0030717R2</td>\n",
       "      <td>1025598-01-U</td>\n",
       "      <td>2024-06-03 06:43:10.000</td>\n",
       "      <td>6</td>\n",
       "      <td>3</td>\n",
       "      <td>2024</td>\n",
       "      <td>6</td>\n",
       "      <td>43</td>\n",
       "      <td>Max</td>\n",
       "      <td>1</td>\n",
       "      <td>429.695618</td>\n",
       "      <td>23</td>\n",
       "    </tr>\n",
       "    <tr>\n",
       "      <th>2</th>\n",
       "      <td>P1025598-01-U-ST13L0030717R2</td>\n",
       "      <td>P1025598-01-U:ST13L0030717R2</td>\n",
       "      <td>1025598-01-U</td>\n",
       "      <td>2024-06-03 06:43:10.000</td>\n",
       "      <td>6</td>\n",
       "      <td>3</td>\n",
       "      <td>2024</td>\n",
       "      <td>6</td>\n",
       "      <td>43</td>\n",
       "      <td>Torque Inverter Side</td>\n",
       "      <td>1</td>\n",
       "      <td>146.263199</td>\n",
       "      <td>23</td>\n",
       "    </tr>\n",
       "    <tr>\n",
       "      <th>3</th>\n",
       "      <td>P1025598-01-U-ST13L0030717R2</td>\n",
       "      <td>P1025598-01-U:ST13L0030717R2</td>\n",
       "      <td>1025598-01-U</td>\n",
       "      <td>2024-06-03 06:47:59.000</td>\n",
       "      <td>6</td>\n",
       "      <td>3</td>\n",
       "      <td>2024</td>\n",
       "      <td>6</td>\n",
       "      <td>47</td>\n",
       "      <td>6208 Cage Failure</td>\n",
       "      <td>1</td>\n",
       "      <td>55.186283</td>\n",
       "      <td>23</td>\n",
       "    </tr>\n",
       "    <tr>\n",
       "      <th>4</th>\n",
       "      <td>P1025598-01-U-ST13L0030717R2</td>\n",
       "      <td>P1025598-01-U:ST13L0030717R2</td>\n",
       "      <td>1025598-01-U</td>\n",
       "      <td>2024-06-03 06:47:59.000</td>\n",
       "      <td>6</td>\n",
       "      <td>3</td>\n",
       "      <td>2024</td>\n",
       "      <td>6</td>\n",
       "      <td>47</td>\n",
       "      <td>Max</td>\n",
       "      <td>1</td>\n",
       "      <td>555.106079</td>\n",
       "      <td>23</td>\n",
       "    </tr>\n",
       "  </tbody>\n",
       "</table>\n",
       "</div>"
      ],
      "text/plain": [
       "                           part                      FX_Thing    partnumber  \\\n",
       "0  P1025598-01-U-ST13L0030717R2  P1025598-01-U:ST13L0030717R2  1025598-01-U   \n",
       "1  P1025598-01-U-ST13L0030717R2  P1025598-01-U:ST13L0030717R2  1025598-01-U   \n",
       "2  P1025598-01-U-ST13L0030717R2  P1025598-01-U:ST13L0030717R2  1025598-01-U   \n",
       "3  P1025598-01-U-ST13L0030717R2  P1025598-01-U:ST13L0030717R2  1025598-01-U   \n",
       "4  P1025598-01-U-ST13L0030717R2  P1025598-01-U:ST13L0030717R2  1025598-01-U   \n",
       "\n",
       "                  testTime  testMonth  testDay  testYear  testHour  \\\n",
       "0  2024-06-03 06:43:10.000          6        3      2024         6   \n",
       "1  2024-06-03 06:43:10.000          6        3      2024         6   \n",
       "2  2024-06-03 06:43:10.000          6        3      2024         6   \n",
       "3  2024-06-03 06:47:59.000          6        3      2024         6   \n",
       "4  2024-06-03 06:47:59.000          6        3      2024         6   \n",
       "\n",
       "   testMinute            metricName  metricispass  metricValue  yearWeek  \n",
       "0          43     6208 Cage Failure             1    49.188820        23  \n",
       "1          43                   Max             1   429.695618        23  \n",
       "2          43  Torque Inverter Side             1   146.263199        23  \n",
       "3          47     6208 Cage Failure             1    55.186283        23  \n",
       "4          47                   Max             1   555.106079        23  "
      ]
     },
     "execution_count": 72,
     "metadata": {},
     "output_type": "execute_result"
    }
   ],
   "source": [
    "df_raw = pd.read_csv('Week23_DynoSummary.csv')\n",
    "df_raw.head()"
   ]
  },
  {
   "cell_type": "code",
   "execution_count": 73,
   "metadata": {},
   "outputs": [],
   "source": [
    "summary = pd.Series({'FirstPasses':0,\n",
    "                     'DLE':0,\n",
    "                           'Retries':0,\n",
    "                           'ReworkedPasses':0,\n",
    "                           'Failures':0\n",
    "                           })"
   ]
  },
  {
   "cell_type": "code",
   "execution_count": 74,
   "metadata": {},
   "outputs": [],
   "source": [
    "df = df_raw.copy()\n",
    "df.groupby('FX_Thing')['metricispass'].sum().min()\n",
    "#if a test has 46 metricispass, it's a first time pass\n",
    "\n",
    "#dropping Golden units\n",
    "golden_units = ['P1025598-00-U:ST13D0013400', 'P1025598-00-U:ST17A1021978']\n",
    "df = df[~df['FX_Thing'].isin(golden_units)]\n"
   ]
  },
  {
   "cell_type": "code",
   "execution_count": 90,
   "metadata": {},
   "outputs": [
    {
     "data": {
      "text/plain": [
       "109"
      ]
     },
     "execution_count": 90,
     "metadata": {},
     "output_type": "execute_result"
    }
   ],
   "source": [
    "#total unique serials\n"
   ]
  },
  {
   "cell_type": "code",
   "execution_count": 75,
   "metadata": {},
   "outputs": [],
   "source": [
    "#Finding all the first time passes. Every unit with 46 metricispass sum is a first time pass\n",
    "sum_metricispass = df.groupby('FX_Thing')['metricispass'].sum()\n",
    "firstPasses = sum_metricispass[sum_metricispass == 46].reset_index()['FX_Thing']\n",
    "summary['FirstPasses'] = len(firstPasses)"
   ]
  },
  {
   "cell_type": "code",
   "execution_count": 77,
   "metadata": {},
   "outputs": [
    {
     "data": {
      "text/plain": [
       "10"
      ]
     },
     "execution_count": 77,
     "metadata": {},
     "output_type": "execute_result"
    }
   ],
   "source": [
    "#getting all the failures and the unique failing serials\n",
    "df_allFailures = df[df['metricispass'] == 0].copy()\n",
    "df_allFailures.head()\n",
    "\n",
    "#count of unique failures\n",
    "failing_serials = df_allFailures['FX_Thing'].drop_duplicates()\n",
    "len(failing_serials)\n",
    "\n"
   ]
  },
  {
   "cell_type": "code",
   "execution_count": 91,
   "metadata": {},
   "outputs": [
    {
     "data": {
      "text/plain": [
       "FirstPasses       96\n",
       "DLE                3\n",
       "Retries            0\n",
       "ReworkedPasses     0\n",
       "Failures           0\n",
       "dtype: int64"
      ]
     },
     "execution_count": 91,
     "metadata": {},
     "output_type": "execute_result"
    }
   ],
   "source": [
    "#anything with only passes, but doesn't have 46 runs, is a DLE\n",
    "DLEs = df['FX_Thing'].nunique() - len(firstPasses) - len(failing_serials)\n",
    "summary['DLE'] = DLEs"
   ]
  },
  {
   "cell_type": "code",
   "execution_count": 79,
   "metadata": {},
   "outputs": [
    {
     "data": {
      "text/html": [
       "<div>\n",
       "<style scoped>\n",
       "    .dataframe tbody tr th:only-of-type {\n",
       "        vertical-align: middle;\n",
       "    }\n",
       "\n",
       "    .dataframe tbody tr th {\n",
       "        vertical-align: top;\n",
       "    }\n",
       "\n",
       "    .dataframe thead th {\n",
       "        text-align: right;\n",
       "    }\n",
       "</style>\n",
       "<table border=\"1\" class=\"dataframe\">\n",
       "  <thead>\n",
       "    <tr style=\"text-align: right;\">\n",
       "      <th></th>\n",
       "      <th>part</th>\n",
       "      <th>FX_Thing</th>\n",
       "      <th>partnumber</th>\n",
       "      <th>testTime</th>\n",
       "      <th>testMonth</th>\n",
       "      <th>testDay</th>\n",
       "      <th>testYear</th>\n",
       "      <th>testHour</th>\n",
       "      <th>testMinute</th>\n",
       "      <th>metricName</th>\n",
       "      <th>metricispass</th>\n",
       "      <th>metricValue</th>\n",
       "      <th>yearWeek</th>\n",
       "    </tr>\n",
       "  </thead>\n",
       "  <tbody>\n",
       "    <tr>\n",
       "      <th>0</th>\n",
       "      <td>P1025598-01-U-ST13L0030717R2</td>\n",
       "      <td>P1025598-01-U:ST13L0030717R2</td>\n",
       "      <td>1025598-01-U</td>\n",
       "      <td>2024-06-03 06:43:10.000</td>\n",
       "      <td>6</td>\n",
       "      <td>3</td>\n",
       "      <td>2024</td>\n",
       "      <td>6</td>\n",
       "      <td>43</td>\n",
       "      <td>6208 Cage Failure</td>\n",
       "      <td>1</td>\n",
       "      <td>49.188820</td>\n",
       "      <td>23</td>\n",
       "    </tr>\n",
       "    <tr>\n",
       "      <th>4831</th>\n",
       "      <td>P1025598-01-U-ST14J0065840R2</td>\n",
       "      <td>P1025598-01-U:ST14J0065840R2</td>\n",
       "      <td>1025598-01-U</td>\n",
       "      <td>2024-06-06 05:31:35.000</td>\n",
       "      <td>6</td>\n",
       "      <td>6</td>\n",
       "      <td>2024</td>\n",
       "      <td>5</td>\n",
       "      <td>31</td>\n",
       "      <td>6208 Cage Failure</td>\n",
       "      <td>1</td>\n",
       "      <td>56.606480</td>\n",
       "      <td>23</td>\n",
       "    </tr>\n",
       "    <tr>\n",
       "      <th>5015</th>\n",
       "      <td>P1025598-00-U-ST16L1021579</td>\n",
       "      <td>P1025598-00-U:ST16L1021579</td>\n",
       "      <td>1025598-00-U</td>\n",
       "      <td>2024-06-06 06:01:30.000</td>\n",
       "      <td>6</td>\n",
       "      <td>6</td>\n",
       "      <td>2024</td>\n",
       "      <td>6</td>\n",
       "      <td>1</td>\n",
       "      <td>6208 Cage Failure</td>\n",
       "      <td>1</td>\n",
       "      <td>47.550797</td>\n",
       "      <td>23</td>\n",
       "    </tr>\n",
       "  </tbody>\n",
       "</table>\n",
       "</div>"
      ],
      "text/plain": [
       "                              part                      FX_Thing  \\\n",
       "0     P1025598-01-U-ST13L0030717R2  P1025598-01-U:ST13L0030717R2   \n",
       "4831  P1025598-01-U-ST14J0065840R2  P1025598-01-U:ST14J0065840R2   \n",
       "5015    P1025598-00-U-ST16L1021579    P1025598-00-U:ST16L1021579   \n",
       "\n",
       "        partnumber                 testTime  testMonth  testDay  testYear  \\\n",
       "0     1025598-01-U  2024-06-03 06:43:10.000          6        3      2024   \n",
       "4831  1025598-01-U  2024-06-06 05:31:35.000          6        6      2024   \n",
       "5015  1025598-00-U  2024-06-06 06:01:30.000          6        6      2024   \n",
       "\n",
       "      testHour  testMinute         metricName  metricispass  metricValue  \\\n",
       "0            6          43  6208 Cage Failure             1    49.188820   \n",
       "4831         5          31  6208 Cage Failure             1    56.606480   \n",
       "5015         6           1  6208 Cage Failure             1    47.550797   \n",
       "\n",
       "      yearWeek  \n",
       "0           23  \n",
       "4831        23  \n",
       "5015        23  "
      ]
     },
     "execution_count": 79,
     "metadata": {},
     "output_type": "execute_result"
    }
   ],
   "source": [
    "#DLEs\n",
    "uniqueSerials = df.drop_duplicates(subset = 'FX_Thing')\n",
    "uniqueSerials[(~uniqueSerials['FX_Thing'].isin(failing_serials)) & (~uniqueSerials['FX_Thing'].isin(firstPasses))]"
   ]
  },
  {
   "cell_type": "code",
   "execution_count": null,
   "metadata": {},
   "outputs": [],
   "source": [
    "#Looking at the failures"
   ]
  }
 ],
 "metadata": {
  "kernelspec": {
   "display_name": "Python 3",
   "language": "python",
   "name": "python3"
  },
  "language_info": {
   "codemirror_mode": {
    "name": "ipython",
    "version": 3
   },
   "file_extension": ".py",
   "mimetype": "text/x-python",
   "name": "python",
   "nbconvert_exporter": "python",
   "pygments_lexer": "ipython3",
   "version": "3.11.9"
  }
 },
 "nbformat": 4,
 "nbformat_minor": 2
}
